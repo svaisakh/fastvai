{
 "cells": [
  {
   "cell_type": "markdown",
   "metadata": {},
   "source": [
    "Run the following JS code in your browser console after searching for the requisite class images in Google Images.\n",
    "\n",
    "```javascript\n",
    "urls = Array.from(document.querySelectorAll('.rg_di .rg_meta')).map(el=>JSON.parse(el.textContent).ou);\n",
    "window.open('data:text/csv;charset=utf-8,' + escape(urls.join('\\n')));\n",
    "```\n",
    "\n",
    "And save to ~/.data/mosquitoes/urls/{class}.txt\n",
    "\n",
    "Do this for each class then run the following."
   ]
  },
  {
   "cell_type": "code",
   "execution_count": 1,
   "metadata": {
    "hide_input": false
   },
   "outputs": [],
   "source": [
    "from fastai.vision import *\n",
    "from tqdm import tqdm"
   ]
  },
  {
   "cell_type": "code",
   "execution_count": 2,
   "metadata": {},
   "outputs": [],
   "source": [
    "#classes = ['aedes-aegypti','aedes_albopictus','aedes-atlanticus', 'anopheles',\n",
    "          #'culex', 'culiseta', 'mansonia']\n",
    "    \n",
    "classes = ['aedes', 'anopheles', 'culex', 'culiseta', 'mansonia']"
   ]
  },
  {
   "cell_type": "code",
   "execution_count": 3,
   "metadata": {},
   "outputs": [],
   "source": [
    "path = Path('~/.data/mosquitoes').expanduser()"
   ]
  },
  {
   "cell_type": "code",
   "execution_count": null,
   "metadata": {},
   "outputs": [],
   "source": [
    "for c in classes:\n",
    "    dest = path / 'images' / c\n",
    "    dest.mkdir(parents=True, exist_ok=True)\n",
    "    \n",
    "    download_images(path / 'urls' / (c + '.txt'), dest, max_pics=500)\n",
    "    verify_images(path/ 'images' /c, delete=True, max_size=500) # Remove non-images"
   ]
  },
  {
   "cell_type": "markdown",
   "metadata": {},
   "source": [
    "Create a held-out validation set"
   ]
  },
  {
   "cell_type": "code",
   "execution_count": 6,
   "metadata": {},
   "outputs": [],
   "source": [
    "!mkdir -p {path}/images/train"
   ]
  },
  {
   "cell_type": "code",
   "execution_count": 7,
   "metadata": {},
   "outputs": [],
   "source": [
    "!mv {path}/images {path}/images/train"
   ]
  },
  {
   "cell_type": "code",
   "execution_count": 8,
   "metadata": {},
   "outputs": [],
   "source": [
    "val_pct = 0.1"
   ]
  },
  {
   "cell_type": "code",
   "execution_count": 15,
   "metadata": {},
   "outputs": [
    {
     "name": "stderr",
     "output_type": "stream",
     "text": [
      "18it [00:02,  7.10it/s]\n",
      "22it [00:03,  8.24it/s]\n",
      "23it [00:03,  7.13it/s]\n",
      "21it [00:02,  7.15it/s]\n",
      "5it [00:00,  7.10it/s]\n"
     ]
    }
   ],
   "source": [
    "for c in classes:\n",
    "    !mkdir -p {path}/images/valid/{c}\n",
    "    \n",
    "    filenames = list((path / 'images' / 'train' / c).glob('*'))\n",
    "    filenames = np.random.choice(filenames, size=int(len(filenames) * val_pct), replace=False)\n",
    "    for i, filename in tqdm(enumerate(filenames)):\n",
    "        !mv {filename} {path / 'images' / 'valid' / c / (str(i) + filename.suffix)}"
   ]
  },
  {
   "cell_type": "markdown",
   "metadata": {},
   "source": [
    "Remove unnecessary images from each folder and run the following to rename the files in order."
   ]
  },
  {
   "cell_type": "code",
   "execution_count": null,
   "metadata": {},
   "outputs": [
    {
     "name": "stderr",
     "output_type": "stream",
     "text": [
      "169it [00:23,  7.10it/s]\n",
      "11it [00:01,  7.10it/s]"
     ]
    }
   ],
   "source": [
    "for c in classes:\n",
    "    for i, filename in tqdm(enumerate((path / 'images' / 'train' / c).glob('*'))):\n",
    "        !mv {filename} {filename.parent / (str(i) + filename.suffix)}"
   ]
  }
 ],
 "metadata": {
  "kernelspec": {
   "display_name": "FastAI v3",
   "language": "python",
   "name": "fastaiv3"
  },
  "language_info": {
   "codemirror_mode": {
    "name": "ipython",
    "version": 3
   },
   "file_extension": ".py",
   "mimetype": "text/x-python",
   "name": "python",
   "nbconvert_exporter": "python",
   "pygments_lexer": "ipython3",
   "version": "3.7.2"
  }
 },
 "nbformat": 4,
 "nbformat_minor": 2
}
